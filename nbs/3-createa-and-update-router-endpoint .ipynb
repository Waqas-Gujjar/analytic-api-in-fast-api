{
 "cells": [
  {
   "cell_type": "code",
   "execution_count": 1,
   "id": "9666c34f",
   "metadata": {},
   "outputs": [
    {
     "name": "stdout",
     "output_type": "stream",
     "text": [
      "Requirement already satisfied: requests in /Users/muhammadyounas/Desktop/analytic-api-in-fast-api/venv/lib/python3.13/site-packages (2.32.3)\n",
      "Requirement already satisfied: charset-normalizer<4,>=2 in /Users/muhammadyounas/Desktop/analytic-api-in-fast-api/venv/lib/python3.13/site-packages (from requests) (3.4.2)\n",
      "Requirement already satisfied: idna<4,>=2.5 in /Users/muhammadyounas/Desktop/analytic-api-in-fast-api/venv/lib/python3.13/site-packages (from requests) (3.10)\n",
      "Requirement already satisfied: urllib3<3,>=1.21.1 in /Users/muhammadyounas/Desktop/analytic-api-in-fast-api/venv/lib/python3.13/site-packages (from requests) (2.4.0)\n",
      "Requirement already satisfied: certifi>=2017.4.17 in /Users/muhammadyounas/Desktop/analytic-api-in-fast-api/venv/lib/python3.13/site-packages (from requests) (2025.4.26)\n",
      "Note: you may need to restart the kernel to use updated packages.\n"
     ]
    }
   ],
   "source": [
    "%pip install requests"
   ]
  },
  {
   "cell_type": "code",
   "execution_count": 2,
   "id": "3b339618",
   "metadata": {},
   "outputs": [],
   "source": [
    "import requests\n",
    "from pprint import pprint\n",
    "    \n"
   ]
  },
  {
   "cell_type": "code",
   "execution_count": 3,
   "id": "65e1b838",
   "metadata": {},
   "outputs": [
    {
     "name": "stdout",
     "output_type": "stream",
     "text": [
      "{'page': '/test +'}\n"
     ]
    }
   ],
   "source": [
    "import json\n",
    "data = {\"page\": \"/test +\"}\n",
    "json.dumps(data)\n",
    "print(data)"
   ]
  },
  {
   "cell_type": "code",
   "execution_count": 4,
   "id": "a54bfee3",
   "metadata": {},
   "outputs": [
    {
     "name": "stdout",
     "output_type": "stream",
     "text": [
      "{'date': 'Mon, 26 May 2025 17:58:01 GMT', 'server': 'uvicorn', 'content-length': '51', 'content-type': 'application/json'}\n",
      "True\n",
      "{'id': 15, 'page': 'test', 'description': 'hello would'} <class 'dict'> None\n"
     ]
    }
   ],
   "source": [
    "path = \"api/events\"\n",
    "url = \"http://localhost:8002\"\n",
    "base_url = f\"{url}/{path}\"\n",
    "\n",
    "responses = requests.post(base_url,json={\"page\":\"test\",\"description\":\"hello would\"})\n",
    "print(responses.headers)\n",
    "print(responses.ok)\n",
    "if responses.ok:\n",
    "    data = responses.json()\n",
    "    print(data, type(data),data.get(('result')))\n",
    "else:\n",
    "    pprint(responses.text)"
   ]
  },
  {
   "cell_type": "code",
   "execution_count": 5,
   "id": "1c37ed65",
   "metadata": {},
   "outputs": [
    {
     "name": "stdout",
     "output_type": "stream",
     "text": [
      "{'date': 'Mon, 26 May 2025 17:58:01 GMT', 'server': 'uvicorn', 'content-length': '46', 'content-type': 'application/json'}\n",
      "200\n",
      "{'description': 'test clear', 'id': 15, 'page': ''}\n"
     ]
    }
   ],
   "source": [
    "\n",
    "detail_path = \"api/events/15/\"\n",
    "base_url = f\"{url}/{detail_path}\"\n",
    "\n",
    "responses = requests.put(base_url,json={\"description\":\"test clear\"})\n",
    "print(responses.headers)\n",
    "print(responses.status_code)\n",
    "if responses.ok:\n",
    "    data = responses.json()\n",
    "    pprint(data)\n",
    "else:\n",
    "    print(responses.text)"
   ]
  },
  {
   "cell_type": "code",
   "execution_count": 8,
   "id": "68214326",
   "metadata": {},
   "outputs": [
    {
     "name": "stdout",
     "output_type": "stream",
     "text": [
      "{'date': 'Mon, 26 May 2025 17:58:52 GMT', 'server': 'uvicorn', 'content-length': '53', 'content-type': 'application/json'}\n",
      "200\n",
      "{'message': 'Data Deleted Successfully', 'status': 'ok'}\n"
     ]
    }
   ],
   "source": [
    "detail_path = \"api/events/14/\"\n",
    "base_url = f\"{url}/{detail_path}\"\n",
    "responses = requests.delete(base_url)\n",
    "print(responses.headers)\n",
    "print(responses.status_code)\n",
    "if responses.ok:\n",
    "    data = responses.json()\n",
    "    pprint(data)\n",
    "else:\n",
    "    print(responses.text)"
   ]
  },
  {
   "cell_type": "code",
   "execution_count": null,
   "id": "fa716b33",
   "metadata": {},
   "outputs": [],
   "source": []
  }
 ],
 "metadata": {
  "kernelspec": {
   "display_name": "venv",
   "language": "python",
   "name": "python3"
  },
  "language_info": {
   "codemirror_mode": {
    "name": "ipython",
    "version": 3
   },
   "file_extension": ".py",
   "mimetype": "text/x-python",
   "name": "python",
   "nbconvert_exporter": "python",
   "pygments_lexer": "ipython3",
   "version": "3.13.2"
  }
 },
 "nbformat": 4,
 "nbformat_minor": 5
}
