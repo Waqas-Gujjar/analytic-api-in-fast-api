{
 "cells": [
  {
   "cell_type": "code",
   "execution_count": 63,
   "id": "9666c34f",
   "metadata": {},
   "outputs": [
    {
     "name": "stderr",
     "output_type": "stream",
     "text": [
      "10852.03s - pydevd: Sending message related to process being replaced timed-out after 5 seconds\n"
     ]
    },
    {
     "name": "stdout",
     "output_type": "stream",
     "text": [
      "Requirement already satisfied: requests in /Users/muhammadyounas/Desktop/analytic-api-in-fast-api/venv/lib/python3.13/site-packages (2.32.3)\n",
      "Requirement already satisfied: charset-normalizer<4,>=2 in /Users/muhammadyounas/Desktop/analytic-api-in-fast-api/venv/lib/python3.13/site-packages (from requests) (3.4.2)\n",
      "Requirement already satisfied: idna<4,>=2.5 in /Users/muhammadyounas/Desktop/analytic-api-in-fast-api/venv/lib/python3.13/site-packages (from requests) (3.10)\n",
      "Requirement already satisfied: urllib3<3,>=1.21.1 in /Users/muhammadyounas/Desktop/analytic-api-in-fast-api/venv/lib/python3.13/site-packages (from requests) (2.4.0)\n",
      "Requirement already satisfied: certifi>=2017.4.17 in /Users/muhammadyounas/Desktop/analytic-api-in-fast-api/venv/lib/python3.13/site-packages (from requests) (2025.4.26)\n",
      "Note: you may need to restart the kernel to use updated packages.\n"
     ]
    }
   ],
   "source": [
    "%pip install requests"
   ]
  },
  {
   "cell_type": "code",
   "execution_count": 70,
   "id": "3b339618",
   "metadata": {},
   "outputs": [
    {
     "data": {
      "text/plain": [
       "'http://localhost:8002/api/events'"
      ]
     },
     "execution_count": 70,
     "metadata": {},
     "output_type": "execute_result"
    }
   ],
   "source": [
    "import requests\n",
    "    \n",
    "path = \"api/events\"\n",
    "url = \"http://localhost:8002\"\n",
    "endpoint = f\"{url}/{path}\"\n",
    "endpoint"
   ]
  },
  {
   "cell_type": "code",
   "execution_count": 71,
   "id": "65e1b838",
   "metadata": {},
   "outputs": [
    {
     "name": "stdout",
     "output_type": "stream",
     "text": [
      "{'page': '/test +'}\n"
     ]
    }
   ],
   "source": [
    "import json\n",
    "data = {\"page\": \"/test +\"}\n",
    "json.dumps(data)\n",
    "print(data)"
   ]
  },
  {
   "cell_type": "code",
   "execution_count": 75,
   "id": "a54bfee3",
   "metadata": {},
   "outputs": [
    {
     "name": "stdout",
     "output_type": "stream",
     "text": [
      "{'date': 'Sun, 25 May 2025 19:50:45 GMT', 'server': 'uvicorn', 'content-length': '48', 'content-type': 'application/json'}\n",
      "True\n",
      "{'id': 123, 'page': '', 'description': 'hello woild'} <class 'dict'> None\n"
     ]
    }
   ],
   "source": [
    "headers = {\n",
    "    'Content-type': 'application/json'\n",
    "}\n",
    "\n",
    "responses = requests.post(endpoint,data=json.dumps(data),headers=headers)\n",
    "print(responses.headers)\n",
    "print(responses.ok)\n",
    "if responses.ok:\n",
    "    data = responses.json()\n",
    "    print(data, type(data),data.get(('result')))\n",
    "else:\n",
    "    print(responses.text)"
   ]
  },
  {
   "cell_type": "code",
   "execution_count": 74,
   "id": "1c37ed65",
   "metadata": {},
   "outputs": [
    {
     "name": "stdout",
     "output_type": "stream",
     "text": [
      "{'date': 'Sun, 25 May 2025 19:50:36 GMT', 'server': 'uvicorn', 'content-length': '47', 'content-type': 'application/json'}\n",
      "True\n",
      "{'id': 12, 'page': '', 'description': 'hello woild'} <class 'dict'> None\n"
     ]
    }
   ],
   "source": [
    "\n",
    "detail_path = \"api/events/12/\"\n",
    "base_url = f\"{url}/{detail_path}\"\n",
    "\n",
    "responses = requests.put(base_url,json={\"description\":\"hello woild\"})\n",
    "print(responses.headers)\n",
    "print(responses.ok)\n",
    "if responses.ok:\n",
    "    data = responses.json()\n",
    "    print(data, type(data),data.get(('result')))\n",
    "else:\n",
    "    print(responses.text)"
   ]
  }
 ],
 "metadata": {
  "kernelspec": {
   "display_name": "venv",
   "language": "python",
   "name": "python3"
  },
  "language_info": {
   "codemirror_mode": {
    "name": "ipython",
    "version": 3
   },
   "file_extension": ".py",
   "mimetype": "text/x-python",
   "name": "python",
   "nbconvert_exporter": "python",
   "pygments_lexer": "ipython3",
   "version": "3.13.2"
  }
 },
 "nbformat": 4,
 "nbformat_minor": 5
}
